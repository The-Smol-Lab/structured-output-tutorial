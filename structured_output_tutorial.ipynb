{
 "cells": [
  {
   "cell_type": "markdown",
   "metadata": {},
   "source": [
    "## Build a Stock Sentiment Analysis Program Using FREE LLMs with LangChain and Pydantic (Github Repo: [Link](https://github.com/krittaprot/structured-output-tutorial))"
   ]
  },
  {
   "cell_type": "markdown",
   "metadata": {},
   "source": [
    "## Table of Contents  \n",
    "1. Introduction  \n",
    "2. Setup and Dependencies  \n",
    "3. Defining the Data Models  \n",
    "4. Setting Up the Chat Model  \n",
    "5. Creating the Prompt Template  \n",
    "6. Processing Chain  \n",
    "7. Example Analysis  "
   ]
  },
  {
   "cell_type": "markdown",
   "metadata": {},
   "source": [
    "## Introduction <a name=\"introduction\"></a>\n",
    "Sentiment analysis is a powerful tool in financial markets, helping investors understand market sentiment towards specific companies. This notebook uses LangChain with Structured Output to analyze news articles and extract sentiment information about mentioned companies."
   ]
  },
  {
   "cell_type": "markdown",
   "metadata": {},
   "source": [
    "![Overview Diagram](supplementals/overview_diagram.png)"
   ]
  },
  {
   "cell_type": "markdown",
   "metadata": {},
   "source": [
    "## Setup and Dependencies <a name=\"setup\"></a>\n",
    "First, let's ensure we have all necessary dependencies installed."
   ]
  },
  {
   "cell_type": "code",
   "execution_count": 1,
   "metadata": {},
   "outputs": [],
   "source": [
    "#Uncomment to install packages\n",
    "# !pip install langchain-openai langchain pydantic"
   ]
  },
  {
   "cell_type": "markdown",
   "metadata": {},
   "source": [
    "Now, let's import the required libraries."
   ]
  },
  {
   "cell_type": "code",
   "execution_count": 2,
   "metadata": {},
   "outputs": [],
   "source": [
    "from langchain_openai import ChatOpenAI\n",
    "from langchain.prompts import ChatPromptTemplate\n",
    "from pydantic import BaseModel, Field, field_validator\n",
    "from typing import List, Optional\n",
    "from enum import Enum\n",
    "from datetime import datetime\n",
    "import time"
   ]
  },
  {
   "cell_type": "markdown",
   "metadata": {},
   "source": [
    "## Defining the Data Models <a name=\"data-models\"></a>  "
   ]
  },
  {
   "cell_type": "markdown",
   "metadata": {},
   "source": [
    "We define Pydantic models to structure our sentiment analysis output."
   ]
  },
  {
   "cell_type": "code",
   "execution_count": 3,
   "metadata": {},
   "outputs": [],
   "source": [
    "class SentimentLabel(str, Enum):\n",
    "    POSITIVE = \"positive\"\n",
    "    MIXED = \"mixed\"\n",
    "    NEGATIVE = \"negative\"\n",
    "\n",
    "class StockSentiment(BaseModel):\n",
    "    company_name: str = Field(\n",
    "        ..., \n",
    "        description=\"The name of the company being analyzed, e.g., NVIDIA Corporation (NVDA).\"\n",
    "    )\n",
    "    justification: str = Field(\n",
    "        ..., \n",
    "        description=\"Detailed explanation with specific numbers from the article, supporting the sentiment classification.\"\n",
    "    )\n",
    "    sentiment: SentimentLabel = Field(\n",
    "        ..., \n",
    "        description=\"Sentiment classification based on the content analysis: positive, neutral, negative, or mixed.\"\n",
    "    )\n",
    "    confidence: float = Field(\n",
    "        ..., \n",
    "        description=\"Confidence level of the sentiment analysis, ranging from 0 to 1.\"\n",
    "    )\n",
    "\n",
    "    @field_validator(\"company_name\")\n",
    "    def validate_company_name(cls, v):\n",
    "        if not v.strip():\n",
    "            raise ValueError(\"Company name cannot be empty\")\n",
    "        if len(v) > 100:\n",
    "            raise ValueError(\"Company name must be ≤ 100 characters\")\n",
    "        return v\n",
    "\n",
    "    @field_validator(\"confidence\", mode=\"before\")\n",
    "    def normalize_confidence(cls, v: float) -> float:\n",
    "        # Convert percentage values to decimal\n",
    "        if isinstance(v, (int, float)) and v > 1:\n",
    "            v /= 100\n",
    "        return round(v, 2)\n",
    "\n",
    "    @field_validator(\"justification\")\n",
    "    def validate_justification(cls, v):\n",
    "        if not v.strip():\n",
    "            raise ValueError(\"Justification cannot be empty\")\n",
    "        if \"±\" in v or \"≈\" in v:  # Prevent approximations\n",
    "            raise ValueError(\"Use exact numbers from article, not approximations\")\n",
    "        return v\n",
    "\n",
    "class NewsSentiment(BaseModel):\n",
    "    stocks: List[StockSentiment] = Field(\n",
    "            ...,\n",
    "            example=[\n",
    "                {\n",
    "                    \"company_name\": \"NVIDIA Corporation (NVDA)\", \n",
    "                    \"sentiment\": \"positive\", \n",
    "                    \"confidence\": 0.95, \n",
    "                    \"justification\": \"Q4 revenue increased 15% to $22.1 billion driven by AI chip demand\"\n",
    "                },\n",
    "                {\n",
    "                    \"company_name\": \"Tesla, Inc. (TSLA)\", \n",
    "                    \"sentiment\": \"negative\", \n",
    "                    \"confidence\": 0.85, \n",
    "                    \"justification\": \"Vehicle deliveries dropped 8.5% to 435,000 units in Q3\"\n",
    "                }\n",
    "            ]\n",
    "        )\n",
    "    timestamp: datetime = Field(\n",
    "        default_factory=datetime.now,\n",
    "        description=\"Timestamp of the analysis in ISO format\"\n",
    "    )\n",
    "\n",
    "    @field_validator(\"stocks\")\n",
    "    def validate_stocks(cls, v):\n",
    "        if not v:\n",
    "            raise ValueError(\"Stocks list cannot be empty\")\n",
    "        return v"
   ]
  },
  {
   "cell_type": "markdown",
   "metadata": {},
   "source": [
    "## Setting Up the Chat Model <a name=\"chat-model\"></a>"
   ]
  },
  {
   "cell_type": "markdown",
   "metadata": {},
   "source": [
    "We initialize the ChatOpenAI model with specific configurations."
   ]
  },
  {
   "cell_type": "markdown",
   "metadata": {},
   "source": [
    "![Models](supplementals\\models.png)"
   ]
  },
  {
   "cell_type": "markdown",
   "metadata": {},
   "source": [
    "- Gemini Reference: https://ai.google.dev/gemini-api/docs/openai  \n",
    "- LM Studio Reference: https://lmstudio.ai/docs/api/endpoints/openai\n",
    "\n",
    "Find more models at: https://lmstudio.ai/models or https://ollama.com/library"
   ]
  },
  {
   "cell_type": "markdown",
   "metadata": {},
   "source": [
    "Current rate limits for gemini 2.0 flash is:\n",
    "- 10 RPM (requests per minute)\n",
    "- 4 million TPM\n",
    "- 1,500 RPD (requests per day)\n",
    "\n",
    "Ref: [Gemini 2.0 Flash Official API Doc](https://ai.google.dev/gemini-api/docs/models/gemini#gemini-2.0-flash)"
   ]
  },
  {
   "cell_type": "code",
   "execution_count": 4,
   "metadata": {},
   "outputs": [],
   "source": [
    "from config import GEMINI_API_KEY\n",
    "\n",
    "# Initialize Chat model, choose the mode, between 'gemini', 'lmstudio' and 'ollama'\n",
    "mode = 'lmstudio'\n",
    "\n",
    "if mode == 'lmstudio':\n",
    "    openai_api_base = \"http://localhost:1234/v1\"\n",
    "    openai_api_key = \"lm-studio\"\n",
    "    model_name = \"bartowski/deepseek-r1-distill-qwen-32b@iq2_s\"\n",
    "    #model_name = \"mistral-small-24b-instruct-2501\"\n",
    "    #model_name = \"deepseek-r1-distill-llama-8b\"\n",
    "    #bartowski/deepseek-r1-distill-qwen-14b\n",
    "    #deepseek-r1-redistill-qwen-1.5b-v1.0\n",
    "    #bartowski/deepseek-r1-distill-qwen-14b\n",
    "    #llama-3.1-tulu-3-8b\n",
    "    #selene-1-mini-llama-3.1-8b\n",
    "    #unsloth/phi-4\n",
    "elif mode == 'ollama':\n",
    "    openai_api_base = \"http://localhost:11434/v1\"\n",
    "    openai_api_key = \"ollama\"\n",
    "    model_name = \"deepseek-r1:14b\"\n",
    "elif mode == 'gemini':\n",
    "    openai_api_base=\"https://generativelanguage.googleapis.com/v1beta/openai/\"\n",
    "    openai_api_key = GEMINI_API_KEY\n",
    "    model_name = \"gemini-2.0-flash-exp\"\n",
    "\n",
    "model = ChatOpenAI(\n",
    "    model_name=model_name,\n",
    "    openai_api_base=openai_api_base,\n",
    "    openai_api_key=openai_api_key,\n",
    "    temperature=0 # Set temperature to 0 for deterministic output\n",
    ")"
   ]
  },
  {
   "cell_type": "code",
   "execution_count": 5,
   "metadata": {},
   "outputs": [],
   "source": [
    "# Add structured output capability\n",
    "structured_llm = model.with_structured_output(NewsSentiment)"
   ]
  },
  {
   "cell_type": "markdown",
   "metadata": {},
   "source": [
    "## Creating the Prompt Template <a name=\"prompt-template\"></a>"
   ]
  },
  {
   "cell_type": "markdown",
   "metadata": {},
   "source": [
    "We define a detailed system prompt and a user prompt template."
   ]
  },
  {
   "cell_type": "code",
   "execution_count": 6,
   "metadata": {},
   "outputs": [],
   "source": [
    "# Create prompt template with detailed system message\n",
    "system_prompt = \"\"\"You are a senior financial analyst with expertise in news sentiment analysis. \n",
    "When analyzing articles, follow these guidelines:\n",
    "\n",
    "1. Identify all publicly traded companies mentioned in the text\n",
    "2. For each company, determine market sentiment based on:\n",
    "   - Explicit statements about financial performance (include exact figures/percentages)\n",
    "   - Strategic developments (mergers, partnerships, innovations)\n",
    "   - Regulatory/legal implications\n",
    "   - Market reactions (stock movements, analyst ratings)\n",
    "\n",
    "For each sentiment determination:\n",
    "- Include SPECIFIC NUMERICAL DATA from the article when available (revenue figures, percentage changes, booking numbers)\n",
    "- State QUANTIFIED IMPACTS (\"9% revenue growth\" not just \"revenue growth\")\n",
    "- Mention EXACT TIME REFERENCES (\"Q4 2023\" not just \"recently\")\n",
    "- Use PRECISE METRICS from the text ($27.35 billion, 6% stock increase)\n",
    "\n",
    "Maintain strict requirements:\n",
    "- Confidence scores must reflect article evidence strength\n",
    "- Never invent information not explicitly stated\n",
    "- Use exact company names with ticker symbols\n",
    "- Prioritize recent information when multiple data points exist\"\"\"\n",
    "\n",
    "\n",
    "user_prompt =   \"\"\" \n",
    "                    The current date is {current_date}, \n",
    "                    analyze the following article and provide sentiment analysis for each publicly traded company \n",
    "                    mentioned in the text below:\n",
    "                    {article}\n",
    "                \"\"\"\n",
    "\n",
    "prompt = ChatPromptTemplate.from_messages([\n",
    "    (\"system\", system_prompt),\n",
    "    (\"human\", user_prompt)\n",
    "])"
   ]
  },
  {
   "cell_type": "markdown",
   "metadata": {},
   "source": [
    "## Processing Chain <a name=\"processing-chain\"></a>"
   ]
  },
  {
   "cell_type": "markdown",
   "metadata": {},
   "source": [
    "We create a processing chain that combines the prompt and the structured output model."
   ]
  },
  {
   "cell_type": "code",
   "execution_count": 7,
   "metadata": {},
   "outputs": [],
   "source": [
    "# Create processing chain\n",
    "chain = prompt | structured_llm"
   ]
  },
  {
   "cell_type": "markdown",
   "metadata": {},
   "source": [
    "## Example Analysis <a name=\"example-analysis\"></a>"
   ]
  },
  {
   "cell_type": "markdown",
   "metadata": {},
   "source": [
    "Let's analyze a sample news article."
   ]
  },
  {
   "cell_type": "code",
   "execution_count": 8,
   "metadata": {},
   "outputs": [
    {
     "name": "stdout",
     "output_type": "stream",
     "text": [
      "article:\n",
      "www.investors.com /market-trend/stock-market-today/dow-jones-sp500-nasdaq-nvidia-nvda-stock-5/ Stock\n",
      "Market Today: Dow Jones Dives On Trump Tariff Order; Apple, Nvidia Break Key Levels As MicroStrategy\n",
      "Makes This Move (Live Coverage) Investor's Business Daily7-8 minutes 2/1/2025 Page 1 Major indexes\n",
      "dropped to session lows at the close Friday as looming tariffs took a toll on stocks. Meanwhile,\n",
      "Apple (AAPL) and Nvidia (NVDA) broke key levels, while MicroStrategy (MSTR) edged lower amid a new\n",
      "offering on the stock market today.  Late Friday, the White House said President Donald Trump had\n",
      "ordered the implementation of aggressive tariffs on key trading partners as early as Saturday. The\n",
      "plan is to impose 25% tariffs on products from Mexico and Canada, and a 10% charge on goods from\n",
      "China. According to reports, almost 30% of all imported goods in the U.S. come from its trading\n",
      "neighbors.  The Dow Jones Industrial Average reeled under the news and dropped 337 points for a loss\n",
      "of 0.8%. After some positive progress in the morning, the S&P 500 reversed direction and finished\n",
      "0.5% lower. Among the S&P sectors, energy lagged the most and only two sectors, communication (see more in the full article)\n"
     ]
    }
   ],
   "source": [
    "import textwrap\n",
    "\n",
    "# Example usage: load article content from file\n",
    "with open('content.txt', 'r', encoding='utf-8') as file:\n",
    "    article = file.read()\n",
    "\n",
    "wrapped_justification = textwrap.fill(article, width=100)  # Adjust width as needed\n",
    "\n",
    "# Split into lines and limit to first N rows (e.g., 5)\n",
    "lines = wrapped_justification.split('\\n')\n",
    "limited_output = '\\n'.join(lines[:12])  # Change 5 to however many lines you want\n",
    "\n",
    "print(f\"article:\\n{limited_output} (see more in the full article)\")"
   ]
  },
  {
   "cell_type": "code",
   "execution_count": 9,
   "metadata": {},
   "outputs": [
    {
     "name": "stdout",
     "output_type": "stream",
     "text": [
      "Done!                                                                           \n",
      "\n",
      "Model Used: bartowski/deepseek-r1-distill-qwen-32b@iq2_s\n",
      "Analysis timestamp: 2025-02-01 00:00:00+00:00\n",
      "Time taken to process the article: 182.87 seconds\n",
      "**************************************************\n",
      "Company: Apple Inc.\n",
      "Sentiment: positive\n",
      "Confidence: 85%\n",
      "Justification: Apple reported Q1 sales of $124.3 billion, meeting views while EPS of $2.40 beat estimates by 5\n",
      "cents. Services revenue rose 13.9%, but iPhone sales declined 1%. Apple stock hit an all-time high\n",
      "in December but pulled back in January.\n",
      "\n",
      "**************************************************\n",
      "Company: Nvidia Corporation\n",
      "Sentiment: negative\n",
      "Confidence: 85%\n",
      "Justification: Nvidia dropped nearly 4% as CEO Jensen Huang met President Trump to discuss export curbs and risks\n",
      "from DeepSeek. The stock fell below its 200-day moving average after Monday's news of cheaper AI\n",
      "models.\n",
      "\n",
      "**************************************************\n",
      "Company: MicroStrategy Inc.\n",
      "Sentiment: negative\n",
      "Confidence: 75%\n",
      "Justification: MicroStrategy priced $584 million convertible preferred stock at $80 per share, increasing yield to\n",
      "10%. Shares fell nearly 2% Friday and are heading for a weekly loss.\n",
      "\n",
      "**************************************************\n",
      "Company: Atlassian Corporation\n",
      "Sentiment: positive\n",
      "Confidence: 85%\n",
      "Justification: Atlassian reported Q3 sales of $1.29 billion, up 21%, with EPS rising 32% to 96 cents. The stock\n",
      "broke out of a cup base and has Composite Rating of 99.\n",
      "\n",
      "**************************************************\n",
      "Company: Chevron Corporation\n",
      "Sentiment: negative\n",
      "Confidence: 85%\n",
      "Justification: Chevron reported Q4 sales of $52.23 billion, exceeding views but EPS fell 40% to $2.06. The stock\n",
      "fell below key moving averages in heavy volume.\n",
      "\n",
      "**************************************************\n",
      "Company: Spotify Technology S.A.\n",
      "Sentiment: mixed\n",
      "Confidence: 70%\n",
      "Justification: Spotify edged lower ahead of earnings report, breaking an eight-day winning streak. Composite Rating\n",
      "is 98.\n",
      "\n",
      "**************************************************\n",
      "Company: Deckers Outdoor Corporation\n",
      "Sentiment: negative\n",
      "Confidence: 85%\n",
      "Justification: Deckers reported Q4 sales growth decelerated, triggered sell signal with stock falling below key\n",
      "moving averages in heavy volume.\n",
      "\n"
     ]
    }
   ],
   "source": [
    "import textwrap\n",
    "from loader import Loader  # Import the Loader class\n",
    "\n",
    "# Update example usage with current date\n",
    "current_date = datetime.now().strftime(\"%Y-%m-%d\")\n",
    "\n",
    "# Start the timer\n",
    "start_time = time.time()\n",
    "\n",
    "with Loader(\"Processing article...\"):\n",
    "    # Replace this line with your actual code\n",
    "    result = chain.invoke({\"article\": article, \"current_date\": current_date})\n",
    "print()\n",
    "\n",
    "# Calculate the elapsed time\n",
    "elapsed_time = time.time() - start_time\n",
    "\n",
    "print(f\"Model Used: {model_name}\")\n",
    "print(f\"Analysis timestamp: {result.timestamp}\")\n",
    "print(f\"Time taken to process the article: {elapsed_time:.2f} seconds\")\n",
    "\n",
    "\n",
    "for stock in result.stocks:\n",
    "    print(\"**************************************************\")\n",
    "    print(f\"Company: {stock.company_name}\")\n",
    "    print(f\"Sentiment: {stock.sentiment.value}\")\n",
    "    print(f\"Confidence: {stock.confidence:.0%}\")\n",
    "    wrapped_justification = textwrap.fill(stock.justification, width=100)  # Adjust width as needed\n",
    "    print(f\"Justification: {wrapped_justification}\")\n",
    "    print()"
   ]
  }
 ],
 "metadata": {
  "kernelspec": {
   "display_name": "llm_env",
   "language": "python",
   "name": "python3"
  },
  "language_info": {
   "codemirror_mode": {
    "name": "ipython",
    "version": 3
   },
   "file_extension": ".py",
   "mimetype": "text/x-python",
   "name": "python",
   "nbconvert_exporter": "python",
   "pygments_lexer": "ipython3",
   "version": "3.12.8"
  }
 },
 "nbformat": 4,
 "nbformat_minor": 2
}
