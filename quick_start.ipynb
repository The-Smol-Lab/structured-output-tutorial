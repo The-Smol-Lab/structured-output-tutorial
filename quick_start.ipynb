{
 "cells": [
  {
   "cell_type": "markdown",
   "metadata": {},
   "source": [
    "# Stock Sentiment Analysis with LangChain and OpenAI\n",
    "\n",
    "This notebook demonstrates how to perform sentiment analysis on financial news articles using LangChain and OpenAI. We'll analyze the sentiment of companies mentioned in news articles, providing detailed justifications and confidence scores.\n",
    "\n",
    "## Table of Contents  \n",
    "1. Introduction  \n",
    "2. Setup and Dependencies  \n",
    "3. Defining the Data Models  \n",
    "4. Setting Up the Chat Model  \n",
    "5. Creating the Prompt Template  \n",
    "6. Processing Chain  \n",
    "7. Example Analysis  \n",
    "8. Conclusion  \n",
    "\n",
    "## Introduction <a name=\"introduction\"></a>\n",
    "Sentiment analysis is a powerful tool in financial markets, helping investors understand market sentiment towards specific companies. This notebook uses LangChain and OpenAI to analyze news articles and extract sentiment information about mentioned companies.\n",
    "\n",
    "## Setup and Dependencies <a name=\"setup\"></a>\n",
    "First, let's ensure we have all necessary dependencies installed.\n",
    "\n",
    "```python\n",
    "!pip install langchain_openai langchain pydantic"
   ]
  },
  {
   "cell_type": "markdown",
   "metadata": {},
   "source": [
    "Now, let's import the required libraries."
   ]
  },
  {
   "cell_type": "code",
   "execution_count": 1,
   "metadata": {},
   "outputs": [],
   "source": [
    "from langchain_openai import ChatOpenAI\n",
    "from langchain.prompts import ChatPromptTemplate\n",
    "from pydantic import BaseModel, Field, field_validator\n",
    "from typing import List, Optional\n",
    "from enum import Enum\n",
    "from datetime import datetime\n",
    "import time"
   ]
  },
  {
   "cell_type": "markdown",
   "metadata": {},
   "source": [
    "## Defining the Data Models <a name=\"data-models\"></a>  "
   ]
  },
  {
   "cell_type": "markdown",
   "metadata": {},
   "source": [
    "We define Pydantic models to structure our sentiment analysis output."
   ]
  },
  {
   "cell_type": "code",
   "execution_count": 2,
   "metadata": {},
   "outputs": [],
   "source": [
    "class SentimentLabel(str, Enum):\n",
    "    POSITIVE = \"positive\"\n",
    "    MIXED = \"mixed\"\n",
    "    NEGATIVE = \"negative\"\n",
    "\n",
    "class StockSentiment(BaseModel):\n",
    "    company_name: str = Field(\n",
    "        ..., \n",
    "        description=\"The name of the company being analyzed, e.g., NVIDIA Corporation (NVDA).\"\n",
    "    )\n",
    "    justification: str = Field(\n",
    "        ..., \n",
    "        description=\"Detailed explanation with specific numbers from the article, supporting the sentiment classification.\"\n",
    "    )\n",
    "    sentiment: SentimentLabel = Field(\n",
    "        ..., \n",
    "        description=\"Sentiment classification based on the content analysis: positive, neutral, negative, or mixed.\"\n",
    "    )\n",
    "    confidence: float = Field(\n",
    "        ..., \n",
    "        description=\"Confidence level of the sentiment analysis, ranging from 0 to 1.\"\n",
    "    )\n",
    "\n",
    "    @field_validator(\"company_name\")\n",
    "    def validate_company_name(cls, v):\n",
    "        if not v.strip():\n",
    "            raise ValueError(\"Company name cannot be empty\")\n",
    "        if len(v) > 100:\n",
    "            raise ValueError(\"Company name must be 100 characters or fewer\")\n",
    "        return v\n",
    "\n",
    "    @field_validator(\"confidence\")\n",
    "    def validate_confidence(cls, v):\n",
    "        if not 0 <= v <= 1:\n",
    "            raise ValueError(\"Confidence must be between 0 and 1\")\n",
    "        return round(v, 2)  # Round to 2 decimal places for cleaner output\n",
    "\n",
    "    @field_validator(\"justification\")\n",
    "    def validate_justification(cls, v):\n",
    "        if not v.strip():\n",
    "            raise ValueError(\"Justification cannot be empty\")\n",
    "        if \"±\" in v or \"≈\" in v:  # Prevent approximations\n",
    "            raise ValueError(\"Use exact numbers from article, not approximations\")\n",
    "        return v\n",
    "\n",
    "class NewsSentiment(BaseModel):\n",
    "    stocks: List[StockSentiment] = Field(\n",
    "            ...,\n",
    "            example=[\n",
    "                {\n",
    "                    \"company_name\": \"NVIDIA Corporation (NVDA)\", \n",
    "                    \"sentiment\": \"positive\", \n",
    "                    \"confidence\": 0.95, \n",
    "                    \"justification\": \"Q4 revenue increased 15% to $22.1 billion driven by AI chip demand\"\n",
    "                },\n",
    "                {\n",
    "                    \"company_name\": \"Tesla, Inc. (TSLA)\", \n",
    "                    \"sentiment\": \"negative\", \n",
    "                    \"confidence\": 0.85, \n",
    "                    \"justification\": \"Vehicle deliveries dropped 8.5% to 435,000 units in Q3\"\n",
    "                }\n",
    "            ]\n",
    "        )\n",
    "    timestamp: datetime = Field(\n",
    "        default_factory=datetime.now,\n",
    "        description=\"Timestamp of the analysis in ISO format\"\n",
    "    )\n",
    "\n",
    "    @field_validator(\"stocks\")\n",
    "    def validate_stocks(cls, v):\n",
    "        if not v:\n",
    "            raise ValueError(\"Stocks list cannot be empty\")\n",
    "        return v"
   ]
  },
  {
   "cell_type": "markdown",
   "metadata": {},
   "source": [
    "## Setting Up the Chat Model <a name=\"chat-model\"></a>"
   ]
  },
  {
   "cell_type": "markdown",
   "metadata": {},
   "source": [
    "We initialize the ChatOpenAI model with specific configurations."
   ]
  },
  {
   "cell_type": "code",
   "execution_count": 3,
   "metadata": {},
   "outputs": [],
   "source": [
    "model_name = \"unsloth/phi-4\"\n",
    "\n",
    "# Initialize Chat model\n",
    "model = ChatOpenAI(\n",
    "    model_name=model_name,\n",
    "    openai_api_base=\"http://localhost:1234/v1\",\n",
    "    openai_api_key=\"lm-studio\",\n",
    "    temperature=0 # Set temperature to 0 for deterministic output\n",
    ")\n",
    "\n",
    "# Add structured output capability\n",
    "structured_llm = model.with_structured_output(NewsSentiment)"
   ]
  },
  {
   "cell_type": "markdown",
   "metadata": {},
   "source": [
    "## Creating the Prompt Template <a name=\"prompt-template\"></a>"
   ]
  },
  {
   "cell_type": "markdown",
   "metadata": {},
   "source": [
    "We define a detailed system prompt and a user prompt template."
   ]
  },
  {
   "cell_type": "code",
   "execution_count": 4,
   "metadata": {},
   "outputs": [],
   "source": [
    "# Create prompt template with detailed system message\n",
    "system_prompt = \"\"\"You are a senior financial analyst with expertise in news sentiment analysis. \n",
    "When analyzing articles, follow these guidelines:\n",
    "\n",
    "1. Identify all publicly traded companies mentioned in the text\n",
    "2. For each company, determine market sentiment based on:\n",
    "   - Explicit statements about financial performance (include exact figures/percentages)\n",
    "   - Strategic developments (mergers, partnerships, innovations)\n",
    "   - Regulatory/legal implications\n",
    "   - Market reactions (stock movements, analyst ratings)\n",
    "\n",
    "For each sentiment determination:\n",
    "- Include SPECIFIC NUMERICAL DATA from the article when available (revenue figures, percentage changes, booking numbers)\n",
    "- State QUANTIFIED IMPACTS (\"9% revenue growth\" not just \"revenue growth\")\n",
    "- Mention EXACT TIME REFERENCES (\"Q4 2023\" not just \"recently\")\n",
    "- Use PRECISE METRICS from the text ($27.35 billion, 6% stock increase)\n",
    "\n",
    "Maintain strict requirements:\n",
    "- Confidence scores must reflect article evidence strength\n",
    "- Never invent information not explicitly stated\n",
    "- Use exact company names with ticker symbols\n",
    "- Prioritize recent information when multiple data points exist\"\"\"\n",
    "\n",
    "\n",
    "user_prompt =   \"\"\" \n",
    "                    The current date is {current_date}, \n",
    "                    analyze the following article and provide sentiment analysis for each publicly traded company \n",
    "                    mentioned in the text below:\n",
    "                    {article}\n",
    "                \"\"\"\n",
    "\n",
    "prompt = ChatPromptTemplate.from_messages([\n",
    "    (\"system\", system_prompt),\n",
    "    (\"human\", user_prompt)\n",
    "])"
   ]
  },
  {
   "cell_type": "markdown",
   "metadata": {},
   "source": [
    "## Processing Chain <a name=\"processing-chain\"></a>"
   ]
  },
  {
   "cell_type": "markdown",
   "metadata": {},
   "source": [
    "We create a processing chain that combines the prompt and the structured output model."
   ]
  },
  {
   "cell_type": "code",
   "execution_count": 5,
   "metadata": {},
   "outputs": [],
   "source": [
    "# Create processing chain\n",
    "chain = prompt | structured_llm"
   ]
  },
  {
   "cell_type": "markdown",
   "metadata": {},
   "source": [
    "## Example Analysis <a name=\"example-analysis\"></a>"
   ]
  },
  {
   "cell_type": "markdown",
   "metadata": {},
   "source": [
    "Let's analyze a sample news article."
   ]
  },
  {
   "cell_type": "code",
   "execution_count": 6,
   "metadata": {},
   "outputs": [
    {
     "name": "stdout",
     "output_type": "stream",
     "text": [
      "Processing article...\n",
      "\n",
      "Model Used: unsloth/phi-4\n",
      "Analysis timestamp: 2025-01-30 00:00:00+00:00\n",
      "Time taken to process the article: 10.41 seconds\n",
      "**************************************************\n",
      "Company: OpenAI\n",
      "Sentiment: negative\n",
      "Confidence: 80%\n",
      "Justification: The article discusses OpenAI's legal challenges regarding the use of copyrighted materials for training its AI models. The company is facing lawsuits from entities like The New York Times and the Authors Guild, which claim copyright infringement. These legal issues could negatively impact OpenAI's operations and reputation. However, OpenAI argues compliance with copyright laws and seeks new publisher partnerships to mitigate these challenges.\n",
      "\n",
      "**************************************************\n",
      "Company: Microsoft Corporation (MSFT)\n",
      "Sentiment: negative\n",
      "Confidence: 60%\n",
      "Justification: The article mentions Microsoft as a major investor in OpenAI, which is involved in legal disputes over copyright infringement claims by The New York Times and the Authors Guild. These lawsuits could potentially affect Microsoft's investment in OpenAI, depending on the outcomes.\n",
      "\n"
     ]
    }
   ],
   "source": [
    "# Example usage\n",
    "article = \"\"\"\n",
    "\n",
    "OpenAI Pleads That It Can’t Make Money Without Using Copyrighted Materials for Free\n",
    "Noor Al-Sibai3-4 minutes 1/9/2024\n",
    "\"It would be impossible to train today’s leading AI models without using copyrighted materials.\"\n",
    "Please Sir\n",
    "OpenAI is begging the British Parliament to allow it to use copyrighted works because it's supposedly \"impossible\" for the company to train its artificial intelligence models — and continue growing its multi-billion-dollar business — without them.\n",
    "\n",
    "As The Telegraph reports, the AI firm said in a filing submitted to a House of Lords subcommittee that using only content from the public domain would be insufficient to train the kind of large language models (LLMs) it's building, suggesting that the company must therefore be allowed to use copyrighted material.\n",
    "\n",
    "\"Because copyright today covers virtually every sort of human expression — including blog posts, photographs, forum posts, scraps of software code, and government documents — it would be impossible to train today's leading AI models without using copyrighted materials,\" the company wrote in the evidence filing. \"Limiting training data to public domain books and drawings created more than a century ago might yield an interesting experiment, but would not provide AI systems that meet the needs of today's citizens.\"\n",
    "\n",
    "OpenAI went on to insist in the document, submitted before the House of Lords' communications and digital committee, that it complies with copyright laws and that the company believes \"legally copyright law does not forbid training.\"\n",
    "\n",
    "Rank and File\n",
    "There's a growing chorus of interested parties who strongly disagree with OpenAI's assertion that it's chill and legal to use copyrighted work to train AI.\n",
    "\n",
    "Just a few weeks ago, the New York Times sued OpenAI and Microsoft, its biggest investor, for profiting from allegedly \"massive copyright infringement, commercial exploitation and misappropriation\" of the paper's intellectual property.\n",
    "\n",
    "The paper of record is far from alone in its legal overtures against OpenAI. A few months prior, the Authors Guild sued the firm on behalf of some of the biggest names in fiction — including John Grisham, Jodi Picoult, Jonathan Franzen, David Baldacci, and George R.R. Martin — over objections to those writers' work being used to train ChatGPT.\n",
    "\n",
    "Without using copyrighted work, OpenAI \"would have a vastly different commercial product,\" Rachel Geman, one of the attorneys in the guild's class action suit, said in a press release about the filing. As such, the company's \"decision to copy authors' works, done without offering any choices or providing any compensation, threatens the role and livelihood of writers as a whole.\"\n",
    "\n",
    "On OpenAI's end, the company claims that it's seeking to broker new publisher partnerships, The Telegraph reports. All the same, it's hard to imagine every newspaper, website, or publishing house accepting such terms wholesale, much less independent writers who rely on their copyrights to make a living.\n",
    "\n",
    "More on authors and AI: AI Companies Desperately Hiring Authors and Poets to Fix Their Crappy Writing\n",
    "\n",
    "\"\"\"\n",
    "\n",
    "# Update example usage with current date\n",
    "current_date = datetime.now().strftime(\"%Y-%m-%d\")\n",
    "\n",
    "# Start the timer\n",
    "start_time = time.time()\n",
    "\n",
    "print('Processing article...\\n')\n",
    "result = chain.invoke({\"article\": article, \"current_date\": current_date})\n",
    "\n",
    "# Calculate the elapsed time\n",
    "elapsed_time = time.time() - start_time\n",
    "\n",
    "print(f\"Model Used: {model_name}\")\n",
    "print(f\"Analysis timestamp: {result.timestamp}\")\n",
    "print(f\"Time taken to process the article: {elapsed_time:.2f} seconds\")\n",
    "\n",
    "for stock in result.stocks:\n",
    "    print(\"**************************************************\")\n",
    "    print(f\"Company: {stock.company_name}\")\n",
    "    print(f\"Sentiment: {stock.sentiment.value}\")\n",
    "    print(f\"Confidence: {stock.confidence:.0%}\")  # Format as percentage\n",
    "    print(f\"Justification: {stock.justification}\\n\")"
   ]
  },
  {
   "cell_type": "markdown",
   "metadata": {},
   "source": [
    "## Conclusion <a name=\"conclusion\"></a>"
   ]
  },
  {
   "cell_type": "markdown",
   "metadata": {},
   "source": [
    "This notebook provides a comprehensive guide to performing sentiment analysis on financial news articles using LangChain and OpenAI. By following the steps outlined, you can analyze the sentiment of companies mentioned in news articles, providing valuable insights for investment decisions.  \n",
    "\n",
    "This Jupyter Notebook is structured to be educational, with clear explanations and formatted outputs. It includes multiple examples and detailed write-ups to help users understand each step of the process."
   ]
  }
 ],
 "metadata": {
  "kernelspec": {
   "display_name": "llm_env",
   "language": "python",
   "name": "python3"
  },
  "language_info": {
   "codemirror_mode": {
    "name": "ipython",
    "version": 3
   },
   "file_extension": ".py",
   "mimetype": "text/x-python",
   "name": "python",
   "nbconvert_exporter": "python",
   "pygments_lexer": "ipython3",
   "version": "3.12.8"
  }
 },
 "nbformat": 4,
 "nbformat_minor": 2
}
